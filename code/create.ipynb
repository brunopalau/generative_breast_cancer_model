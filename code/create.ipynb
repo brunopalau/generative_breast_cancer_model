{
 "cells": [
  {
   "cell_type": "code",
   "execution_count": null,
   "id": "6a84a251-3780-4a45-9eba-ff84c2160ace",
   "metadata": {},
   "outputs": [],
   "source": [
    "# import files and libraries\n",
    "\n",
    "import generative_breastCancer_model as gm\n",
    "import numpy as np\n",
    "import pandas as pd\n",
    "\n",
    "ct_interactions = np.genfromtxt(\"/Users/bp/data/cellular_automata_bio394/ct_interactions_knn8.csv\",delimiter=\",\",skip_header=True)\n",
    "total_freq = np.genfromtxt(\"/Users/bp/data/cellular_automata_bio394/total_freq.csv\",delimiter=\",\")"
   ]
  },
  {
   "cell_type": "code",
   "execution_count": null,
   "id": "db983be8-a39b-4e8a-b292-79eab09fbd0e",
   "metadata": {},
   "outputs": [],
   "source": [
    "# set dimension\n",
    "\n",
    "dimx, dimy = 55,55\n",
    "cellsize=1000/dimx"
   ]
  },
  {
   "cell_type": "code",
   "execution_count": null,
   "id": "f873baa8-bd5b-4901-add9-832b9befd904",
   "metadata": {},
   "outputs": [],
   "source": [
    "e = gm.Board(dimx,dimy,transition_matrix=ct_interactions,total_freq = total_freq,cellsize=cellsize)"
   ]
  },
  {
   "cell_type": "code",
   "execution_count": null,
   "id": "a8e2c88f-346e-48fd-bfed-ff0766a86c0c",
   "metadata": {},
   "outputs": [],
   "source": [
    "gm.generate(e,plot=True,generate_func=gm.generate_conv)"
   ]
  },
  {
   "cell_type": "code",
   "execution_count": null,
   "id": "b77215f1-67a4-427c-8551-cd560fe993b2",
   "metadata": {},
   "outputs": [],
   "source": [
    "def open_neighbors(cells,x,y):    \n",
    "    #compute possible moves at position x,y in cells.state    \n",
    "    moves = np.array([[[-1,-1],[-1,0],[-1,1]],\n",
    "                 [[0,-1],[0,0],[0,1]],\n",
    "                 [[1,-1],[1,0],[1,1]]])\n",
    "\n",
    "    left_bound = x-1\n",
    "    left = 0\n",
    "    right_bound = x+2\n",
    "    right = 3\n",
    "    upper_bound = y-1\n",
    "    upper = 0\n",
    "    lower_bound = y+2\n",
    "    lower = 3\n",
    "    #check if at right or left boundary\n",
    "    if x == cells.dimx-1:\n",
    "        right_bound = x+1\n",
    "        right -=1\n",
    "    elif x == 0:\n",
    "        left_bound = 0\n",
    "        left +=1\n",
    "    #check if at upper or lower boundary\n",
    "    if y == cells.dimy-1:\n",
    "        lower_bound = y+1\n",
    "        lower -=1\n",
    "    elif y == 0:\n",
    "        upper_bound = 0\n",
    "        upper +=1\n",
    "    \n",
    "    neig = cells.processed[upper_bound:lower_bound,left_bound:right_bound]\n",
    "    moves = moves[upper:lower,left:right]\n",
    "    open_pos = neig == 0\n",
    "    possible_moves = moves[open_pos]\n",
    "    \n",
    "    #no possible moves\n",
    "    if not possible_moves.any():\n",
    "        return []\n",
    "    else:\n",
    "        return possible_moves"
   ]
  },
  {
   "cell_type": "code",
   "execution_count": null,
   "id": "894a8a1b-24f8-43f6-b4e6-1055cd577684",
   "metadata": {},
   "outputs": [],
   "source": [
    "def best_start(cells):\n",
    "\n",
    "    kernel = [[1,1,1],\n",
    "              [1,0,1],\n",
    "              [1,1,1]]\n",
    "    defined_positions = np.array(cells.processed!=0,dtype=int)\n",
    "    neig_count = conv(defined_positions,kernel,mode=\"constant\",cval=0)\n",
    "    #only consider unused spaces\n",
    "    neig_count[cells.processed!=0] = -1\n",
    "    #max number of neigbors\n",
    "    maxi = np.max(neig_count)\n",
    "    #if -1 then no open positions left\n",
    "    if maxi == -1:\n",
    "        return -1,-1\n",
    "    #consider only positions with the most amount of information given\n",
    "    open_pos = np.argwhere(neig_count==maxi)\n",
    "    #choose one of the neighbors randomly and continue walk\n",
    "    new_y,new_x = open_pos[np.random.randint(0,len(open_pos))]\n",
    "   \n",
    "    return new_y,new_x"
   ]
  },
  {
   "cell_type": "code",
   "execution_count": null,
   "id": "9024c83c-0266-4766-bb20-cb9ec7d36fce",
   "metadata": {},
   "outputs": [],
   "source": [
    "def get_pde():"
   ]
  },
  {
   "cell_type": "code",
   "execution_count": null,
   "id": "3a34ae3b-0e24-4c5f-8fe3-9a0205dc0571",
   "metadata": {},
   "outputs": [],
   "source": [
    "def sample():"
   ]
  },
  {
   "cell_type": "code",
   "execution_count": null,
   "id": "72302720-b2df-4baa-8d0a-f35588bbc714",
   "metadata": {},
   "outputs": [],
   "source": [
    "# todo: add estimation of mu and sigma for distance matrix\n",
    "# todo: implement networkX\n",
    "\n",
    "def spread_spatial(cells):\n",
    "    # choose random start\n",
    "    y_start,x_start = np.random.choice(cells.states.shape[0]),np.random.choice(cells.states.shape[1])\n",
    "    metacluster = cells.states[y_start,x_start]\n",
    "    \n",
    "    # create array to keep track which cells where already processed (=1)\n",
    "    cells.processed = np.zeros(cells.states.shape)\n",
    "    \n",
    "    # initiate pandas dataframe\n",
    "    dic = {\"x\": [x_start], \"y\":[y_start], \"metacluster\":[metacluster]}\n",
    "    graph_df = pd.DataFrame(dic)\n",
    "    cells.processed[y_start,x_start] = 1\n",
    "    \n",
    "    x,y = x_start,y_start\n",
    "    while len(np.argwhere(cells.processed == 0)) > 0:\n",
    "        possible_moves = open_neighbors(cells,x,y)\n",
    "        #if no moves possible from position x,y then search for new position\n",
    "        if len(possible_moves) == 0:\n",
    "            new_y,new_x = best_start(cells)\n",
    "    \n",
    "        #if no moves possible with best_start we are finished\n",
    "            if new_y == -1:\n",
    "                break\n",
    "        else:    \n",
    "            #choose one of the possible moves\n",
    "            delta_y, delta_x = possible_moves[np.random.randint(0,len(possible_moves))]\n",
    "            \n",
    "            #compute new position\n",
    "            new_x, new_y = x+delta_x, y+delta_y\n",
    "            \n",
    "        #assign new position value according to transition matrix\n",
    "        #take all spatial neighbors into account\n",
    "        neig = neighbors(cells, new_x, new_y)\n",
    "\n",
    "        # todo: create distribution and sample from it\n",
    "        pdf = np.zeros()\n",
    "        for s in neig:\n",
    "            if s == 0:\n",
    "                continue\n",
    "            else:\n",
    "                pdf += get_pde()\n",
    "                count_neig += 1\n",
    "                \n",
    "        # sampling of new_x and new_y\n",
    "        new_x,new_y = sample(pdf)\n",
    "        \n",
    "        #update current state and value\n",
    "        x,y = new_x,new_y\n",
    "        state = cells.states[y,x]\n",
    "        \n",
    "        # insert processed cell\n",
    "        graph_df.loc[len(df.index)] = [x,y,state]\n",
    "    "
   ]
  }
 ],
 "metadata": {
  "kernelspec": {
   "display_name": "Python 3 (ipykernel)",
   "language": "python",
   "name": "python3"
  },
  "language_info": {
   "codemirror_mode": {
    "name": "ipython",
    "version": 3
   },
   "file_extension": ".py",
   "mimetype": "text/x-python",
   "name": "python",
   "nbconvert_exporter": "python",
   "pygments_lexer": "ipython3",
   "version": "3.9.12"
  }
 },
 "nbformat": 4,
 "nbformat_minor": 5
}
